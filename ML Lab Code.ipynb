{
 "cells": [
  {
   "cell_type": "code",
   "execution_count": 52,
   "metadata": {},
   "outputs": [
    {
     "data": {
      "text/html": [
       "<div>\n",
       "<style scoped>\n",
       "    .dataframe tbody tr th:only-of-type {\n",
       "        vertical-align: middle;\n",
       "    }\n",
       "\n",
       "    .dataframe tbody tr th {\n",
       "        vertical-align: top;\n",
       "    }\n",
       "\n",
       "    .dataframe thead th {\n",
       "        text-align: right;\n",
       "    }\n",
       "</style>\n",
       "<table border=\"1\" class=\"dataframe\">\n",
       "  <thead>\n",
       "    <tr style=\"text-align: right;\">\n",
       "      <th></th>\n",
       "      <th>Row.ID</th>\n",
       "      <th>Order.ID</th>\n",
       "      <th>Order.Date</th>\n",
       "      <th>Ship.Date</th>\n",
       "      <th>Ship.Mode</th>\n",
       "      <th>Customer.ID</th>\n",
       "      <th>Customer.Name</th>\n",
       "      <th>Segment</th>\n",
       "      <th>Postal.Code</th>\n",
       "      <th>City</th>\n",
       "      <th>...</th>\n",
       "      <th>Product.ID</th>\n",
       "      <th>Category</th>\n",
       "      <th>Sub.Category</th>\n",
       "      <th>Product.Name</th>\n",
       "      <th>Sales</th>\n",
       "      <th>Quantity</th>\n",
       "      <th>Discount</th>\n",
       "      <th>Profit</th>\n",
       "      <th>Shipping.Cost</th>\n",
       "      <th>Order.Priority</th>\n",
       "    </tr>\n",
       "  </thead>\n",
       "  <tbody>\n",
       "    <tr>\n",
       "      <th>0</th>\n",
       "      <td>40098</td>\n",
       "      <td>CA-2014-AB10015140-41954</td>\n",
       "      <td>11/11/14</td>\n",
       "      <td>11/13/14</td>\n",
       "      <td>First Class</td>\n",
       "      <td>AB-100151402</td>\n",
       "      <td>Aaron Bergman</td>\n",
       "      <td>Consumer</td>\n",
       "      <td>73120.0</td>\n",
       "      <td>Oklahoma City</td>\n",
       "      <td>...</td>\n",
       "      <td>TEC-PH-5816</td>\n",
       "      <td>Technology</td>\n",
       "      <td>Phones</td>\n",
       "      <td>Samsung Convoy 3</td>\n",
       "      <td>$221.98</td>\n",
       "      <td>2</td>\n",
       "      <td>0.0</td>\n",
       "      <td>$62.15</td>\n",
       "      <td>40.77</td>\n",
       "      <td>High</td>\n",
       "    </tr>\n",
       "    <tr>\n",
       "      <th>1</th>\n",
       "      <td>26341</td>\n",
       "      <td>IN-2014-JR162107-41675</td>\n",
       "      <td>2/5/14</td>\n",
       "      <td>2/7/14</td>\n",
       "      <td>Second Class</td>\n",
       "      <td>JR-162107</td>\n",
       "      <td>Justin Ritter</td>\n",
       "      <td>Corporate</td>\n",
       "      <td>NaN</td>\n",
       "      <td>Wollongong</td>\n",
       "      <td>...</td>\n",
       "      <td>FUR-CH-5379</td>\n",
       "      <td>Furniture</td>\n",
       "      <td>Chairs</td>\n",
       "      <td>Novimex Executive Leather Armchair, Black</td>\n",
       "      <td>$3,709.40</td>\n",
       "      <td>9</td>\n",
       "      <td>0.1</td>\n",
       "      <td>-$288.77</td>\n",
       "      <td>923.63</td>\n",
       "      <td>Critical</td>\n",
       "    </tr>\n",
       "    <tr>\n",
       "      <th>2</th>\n",
       "      <td>25330</td>\n",
       "      <td>IN-2014-CR127307-41929</td>\n",
       "      <td>10/17/14</td>\n",
       "      <td>10/18/14</td>\n",
       "      <td>First Class</td>\n",
       "      <td>CR-127307</td>\n",
       "      <td>Craig Reiter</td>\n",
       "      <td>Consumer</td>\n",
       "      <td>NaN</td>\n",
       "      <td>Brisbane</td>\n",
       "      <td>...</td>\n",
       "      <td>TEC-PH-5356</td>\n",
       "      <td>Technology</td>\n",
       "      <td>Phones</td>\n",
       "      <td>Nokia Smart Phone, with Caller ID</td>\n",
       "      <td>$5,175.17</td>\n",
       "      <td>9</td>\n",
       "      <td>0.1</td>\n",
       "      <td>$919.97</td>\n",
       "      <td>915.49</td>\n",
       "      <td>Medium</td>\n",
       "    </tr>\n",
       "    <tr>\n",
       "      <th>3</th>\n",
       "      <td>13524</td>\n",
       "      <td>ES-2014-KM1637548-41667</td>\n",
       "      <td>1/28/14</td>\n",
       "      <td>1/30/14</td>\n",
       "      <td>First Class</td>\n",
       "      <td>KM-1637548</td>\n",
       "      <td>Katherine Murray</td>\n",
       "      <td>Home Office</td>\n",
       "      <td>NaN</td>\n",
       "      <td>Berlin</td>\n",
       "      <td>...</td>\n",
       "      <td>TEC-PH-5267</td>\n",
       "      <td>Technology</td>\n",
       "      <td>Phones</td>\n",
       "      <td>Motorola Smart Phone, Cordless</td>\n",
       "      <td>$2,892.51</td>\n",
       "      <td>5</td>\n",
       "      <td>0.1</td>\n",
       "      <td>-$96.54</td>\n",
       "      <td>910.16</td>\n",
       "      <td>Medium</td>\n",
       "    </tr>\n",
       "    <tr>\n",
       "      <th>4</th>\n",
       "      <td>47221</td>\n",
       "      <td>SG-2014-RH9495111-41948</td>\n",
       "      <td>11/5/14</td>\n",
       "      <td>11/6/14</td>\n",
       "      <td>Same Day</td>\n",
       "      <td>RH-9495111</td>\n",
       "      <td>Rick Hansen</td>\n",
       "      <td>Consumer</td>\n",
       "      <td>NaN</td>\n",
       "      <td>Dakar</td>\n",
       "      <td>...</td>\n",
       "      <td>TEC-CO-6011</td>\n",
       "      <td>Technology</td>\n",
       "      <td>Copiers</td>\n",
       "      <td>Sharp Wireless Fax, High-Speed</td>\n",
       "      <td>$2,832.96</td>\n",
       "      <td>8</td>\n",
       "      <td>0.0</td>\n",
       "      <td>$311.52</td>\n",
       "      <td>903.04</td>\n",
       "      <td>Critical</td>\n",
       "    </tr>\n",
       "  </tbody>\n",
       "</table>\n",
       "<p>5 rows × 24 columns</p>\n",
       "</div>"
      ],
      "text/plain": [
       "   Row.ID                  Order.ID Order.Date Ship.Date     Ship.Mode  \\\n",
       "0   40098  CA-2014-AB10015140-41954   11/11/14  11/13/14   First Class   \n",
       "1   26341    IN-2014-JR162107-41675     2/5/14    2/7/14  Second Class   \n",
       "2   25330    IN-2014-CR127307-41929   10/17/14  10/18/14   First Class   \n",
       "3   13524   ES-2014-KM1637548-41667    1/28/14   1/30/14   First Class   \n",
       "4   47221   SG-2014-RH9495111-41948    11/5/14   11/6/14      Same Day   \n",
       "\n",
       "    Customer.ID     Customer.Name      Segment  Postal.Code           City  \\\n",
       "0  AB-100151402     Aaron Bergman     Consumer      73120.0  Oklahoma City   \n",
       "1     JR-162107     Justin Ritter    Corporate          NaN     Wollongong   \n",
       "2     CR-127307      Craig Reiter     Consumer          NaN       Brisbane   \n",
       "3    KM-1637548  Katherine Murray  Home Office          NaN         Berlin   \n",
       "4    RH-9495111       Rick Hansen     Consumer          NaN          Dakar   \n",
       "\n",
       "   ...   Product.ID    Category Sub.Category  \\\n",
       "0  ...  TEC-PH-5816  Technology       Phones   \n",
       "1  ...  FUR-CH-5379   Furniture       Chairs   \n",
       "2  ...  TEC-PH-5356  Technology       Phones   \n",
       "3  ...  TEC-PH-5267  Technology       Phones   \n",
       "4  ...  TEC-CO-6011  Technology      Copiers   \n",
       "\n",
       "                                Product.Name      Sales Quantity Discount  \\\n",
       "0                           Samsung Convoy 3    $221.98        2      0.0   \n",
       "1  Novimex Executive Leather Armchair, Black  $3,709.40        9      0.1   \n",
       "2          Nokia Smart Phone, with Caller ID  $5,175.17        9      0.1   \n",
       "3             Motorola Smart Phone, Cordless  $2,892.51        5      0.1   \n",
       "4             Sharp Wireless Fax, High-Speed  $2,832.96        8      0.0   \n",
       "\n",
       "     Profit Shipping.Cost  Order.Priority  \n",
       "0    $62.15         40.77            High  \n",
       "1  -$288.77        923.63        Critical  \n",
       "2   $919.97        915.49          Medium  \n",
       "3   -$96.54        910.16          Medium  \n",
       "4   $311.52        903.04        Critical  \n",
       "\n",
       "[5 rows x 24 columns]"
      ]
     },
     "execution_count": 52,
     "metadata": {},
     "output_type": "execute_result"
    }
   ],
   "source": [
    "import numpy as np\n",
    "import pandas as pd\n",
    "from matplotlib import pyplot as plt\n",
    "import re\n",
    "\n",
    "\n",
    "df_raw = pd.read_csv('Orders.csv')\n",
    "df_raw.head()"
   ]
  },
  {
   "cell_type": "markdown",
   "metadata": {},
   "source": [
    "### Problem 1: Dataset Import & Cleaning\n",
    "Check **\"Profit\"** and **\"Sales\"** in the dataset, convert these two columns to numeric type. "
   ]
  },
  {
   "cell_type": "code",
   "execution_count": 53,
   "metadata": {},
   "outputs": [],
   "source": [
    "# df_raw['Sales'] = df_raw['Sales'].apply(lambda x: float(''.join(re.findall('[.+-]?[0-9]+', x))))\n",
    "# df_raw['Profit'] = df_raw['Profit'].apply(lambda x: float(''.join(re.findall('[+.-]?[0-9]+', x))))\n",
    "\n",
    "df_raw['Sales'] = df_raw['Sales'].apply(lambda x: float(x.replace('$', '').replace(',', '')))\n",
    "df_raw['Profit'] = df_raw['Profit'].apply(lambda x: float(x.replace('$', '').replace(',', '')))\n",
    "\n",
    "# df_raw.Sales.head()\n",
    "# df_raw.Profit.head()\n",
    "\n",
    "# df_raw['Profit'][1]#.split('$')"
   ]
  },
  {
   "cell_type": "markdown",
   "metadata": {},
   "source": [
    "### Problem 2: Inventory Management\n",
    "- Retailers that depend on seasonal shoppers have a particularly challenging job when it comes to inventory management. Your manager is making plans for next year's inventory.\n",
    "- He wants you to answer the following questions:\n",
    "    1. Is there any seasonal trend of inventory in the company?\n",
    "    2. Is the seasonal trend the same for different categories?\n",
    "\n",
    "- ***Hint:*** For each order, it has an attribute called `Quantity` that indicates the number of product in the order. If an order contains more than one product, there will be multiple observations of the same order."
   ]
  },
  {
   "cell_type": "code",
   "execution_count": 156,
   "metadata": {},
   "outputs": [
    {
     "data": {
      "text/plain": [
       "[Text(0, 0, 'Jan'),\n",
       " Text(0, 0, 'Feb'),\n",
       " Text(0, 0, 'Mar'),\n",
       " Text(0, 0, 'Apr'),\n",
       " Text(0, 0, 'May'),\n",
       " Text(0, 0, 'Jun'),\n",
       " Text(0, 0, 'Jul'),\n",
       " Text(0, 0, 'Aug'),\n",
       " Text(0, 0, 'Sep'),\n",
       " Text(0, 0, 'Oct'),\n",
       " Text(0, 0, 'Nov'),\n",
       " Text(0, 0, 'Dec')]"
      ]
     },
     "execution_count": 156,
     "metadata": {},
     "output_type": "execute_result"
    },
    {
     "data": {
      "image/png": "[encoded data removed]",
      "text/plain": [
       "<Figure size 1008x504 with 1 Axes>"
      ]
     },
     "metadata": {
      "needs_background": "light"
     },
     "output_type": "display_data"
    }
   ],
   "source": [
    "# df_raw['Order.ID'].unique()\n",
    "df_raw.filter(df_raw['Order.ID'] == 'IN-2014-JR162107-41675')\n",
    "\n",
    "df_raw['Order.Date'] = pd.to_datetime(df_raw['Order.Date'])\n",
    "df_raw['Month'] = df_raw['Order.Date'].map(lambda d: d.month)\n",
    "df_raw['Year'] = df_raw['Order.Date'].map(lambda d: d.year)\n",
    "\n",
    "plt.figure(figsize=(14, 7))\n",
    "fig = df_raw.groupby('Month')['Quantity'].sum().plot.bar(x = 'Month', y = 'Quantity')\n",
    "plt.xlabel('Month')\n",
    "plt.ylabel('Order #')\n",
    "plt.title('Order by Month')\n",
    "fig.set_xticklabels(['Jan', 'Feb', 'Mar', 'Apr', 'May', 'Jun', 'Jul', 'Aug', 'Sep', 'Oct', 'Nov', 'Dec'])"
   ]
  },
  {
   "cell_type": "code",
   "execution_count": 155,
   "metadata": {},
   "outputs": [
    {
     "data": {
      "text/plain": [
       "Text(0.5, 1.0, 'Avg Discount Rate by Month')"
      ]
     },
     "execution_count": 155,
     "metadata": {},
     "output_type": "execute_result"
    },
    {
     "data": {
      "image/png": "[encoded data removed]",
      "text/plain": [
       "<Figure size 864x432 with 1 Axes>"
      ]
     },
     "metadata": {
      "needs_background": "light"
     },
     "output_type": "display_data"
    }
   ],
   "source": [
    "plt.figure(figsize=(12,6))\n",
    "fig = df_raw.groupby('Month')['Discount'].mean().plot.bar(x = 'Month', y = 'Discount')\n",
    "plt.xlabel('Date')\n",
    "plt.ylabel('Avg Discount')\n",
    "plt.title('Avg Discount Rate by Month')\n",
    "# fig.set_xticklabels(['Jan', 'Feb', 'Mar', 'Apr', 'May', 'Jun', 'Jul', 'Aug', 'Sep', 'Oct', 'Nov', 'Dec'])"
   ]
  },
  {
   "cell_type": "code",
   "execution_count": 116,
   "metadata": {},
   "outputs": [
    {
     "data": {
      "text/plain": [
       "array(['Technology', 'Furniture', 'Office Supplies'], dtype=object)"
      ]
     },
     "execution_count": 116,
     "metadata": {},
     "output_type": "execute_result"
    }
   ],
   "source": [
    "df_raw.Category.unique()"
   ]
  },
  {
   "cell_type": "code",
   "execution_count": 160,
   "metadata": {},
   "outputs": [
    {
     "data": {
      "text/plain": [
       "[Text(0, 0, 'Jan'),\n",
       " Text(0, 0, 'Feb'),\n",
       " Text(0, 0, 'Mar'),\n",
       " Text(0, 0, 'Apr'),\n",
       " Text(0, 0, 'May'),\n",
       " Text(0, 0, 'Jun'),\n",
       " Text(0, 0, 'Jul'),\n",
       " Text(0, 0, 'Aug'),\n",
       " Text(0, 0, 'Sep'),\n",
       " Text(0, 0, 'Oct'),\n",
       " Text(0, 0, 'Nov'),\n",
       " Text(0, 0, 'Dec')]"
      ]
     },
     "execution_count": 160,
     "metadata": {},
     "output_type": "execute_result"
    },
    {
     "data": {
      "text/plain": [
       "<Figure size 1008x504 with 0 Axes>"
      ]
     },
     "metadata": {},
     "output_type": "display_data"
    },
    {
     "data": {
      "image/png": "[encoded data removed]",
      "text/plain": [
       "<Figure size 432x288 with 1 Axes>"
      ]
     },
     "metadata": {
      "needs_background": "light"
     },
     "output_type": "display_data"
    }
   ],
   "source": [
    "plt.figure(figsize=(14,7))\n",
    "\n",
    "fig2 = df_raw.groupby(['Month', 'Category'])['Quantity'].sum().sort_values(ascending = True).unstack().plot.bar()\n",
    "plt.xlabel('Month')\n",
    "plt.ylabel('Order #')\n",
    "plt.title('Category Order # by Month')\n",
    "fig2.set_xticklabels(['Jan', 'Feb', 'Mar', 'Apr', 'May', 'Jun', 'Jul', 'Aug', 'Sep', 'Oct', 'Nov', 'Dec'])"
   ]
  },
  {
   "cell_type": "markdown",
   "metadata": {},
   "source": [
    "### Problem 3: Why did customers make returns?\n",
    "- Your manager required you to give a brief report (**Plots + Interpretations**) on returned orders.\n",
    "\n",
    "\n",
    "\t1. How much profit did we lose due to returns each year?\n",
    "\n",
    "\n",
    "\t2. How many customer returned more than once? more than 5 times?\n",
    "\n",
    "\n",
    "\t3. Which regions are more likely to return orders?\n",
    "\n",
    "\n",
    "\t4. Which categories (sub-categories) of products are more likely to be returned?\n",
    "\n",
    "- ***Hint:*** Merge the **Returns** dataframe with the **Orders** dataframe using `Order.ID`."
   ]
  },
  {
   "cell_type": "code",
   "execution_count": 171,
   "metadata": {},
   "outputs": [
    {
     "data": {
      "text/plain": [
       "Text(0.5, 1.0, 'Profit Loss Due to Returns by Year')"
      ]
     },
     "execution_count": 171,
     "metadata": {},
     "output_type": "execute_result"
    },
    {
     "data": {
      "image/png": "[encoded data removed]",
      "text/plain": [
       "<Figure size 720x360 with 1 Axes>"
      ]
     },
     "metadata": {
      "needs_background": "light"
     },
     "output_type": "display_data"
    }
   ],
   "source": [
    "# 1\n",
    "df_raw.describe()\n",
    "df_return = pd.read_csv('Returns.csv')\n",
    "df_return = df_return.rename(columns = {'Order ID': 'Order.ID'})\n",
    "\n",
    "plt.figure(figsize=(10,5))\n",
    "\n",
    "# adding info from the Orders file to the Returns file\n",
    "df_return = pd.merge(df_raw, df_return, how = 'inner', on = 'Order.ID')\n",
    "df_return.head()\n",
    "df_return.groupby('Year')['Profit'].sum().plot.bar(color = 'r')\n",
    "plt.title('Profit Loss Due to Returns by Year')"
   ]
  },
  {
   "cell_type": "code",
   "execution_count": 177,
   "metadata": {},
   "outputs": [
    {
     "data": {
      "text/html": [
       "<div>\n",
       "<style scoped>\n",
       "    .dataframe tbody tr th:only-of-type {\n",
       "        vertical-align: middle;\n",
       "    }\n",
       "\n",
       "    .dataframe tbody tr th {\n",
       "        vertical-align: top;\n",
       "    }\n",
       "\n",
       "    .dataframe thead th {\n",
       "        text-align: right;\n",
       "    }\n",
       "</style>\n",
       "<table border=\"1\" class=\"dataframe\">\n",
       "  <thead>\n",
       "    <tr style=\"text-align: right;\">\n",
       "      <th></th>\n",
       "      <th>Row.ID</th>\n",
       "      <th>Order.ID</th>\n",
       "      <th>Order.Date</th>\n",
       "      <th>Ship.Date</th>\n",
       "      <th>Ship.Mode</th>\n",
       "      <th>Customer.ID</th>\n",
       "      <th>Customer.Name</th>\n",
       "      <th>Segment</th>\n",
       "      <th>Postal.Code</th>\n",
       "      <th>City</th>\n",
       "      <th>...</th>\n",
       "      <th>Sales</th>\n",
       "      <th>Quantity</th>\n",
       "      <th>Discount</th>\n",
       "      <th>Profit</th>\n",
       "      <th>Shipping.Cost</th>\n",
       "      <th>Order.Priority</th>\n",
       "      <th>Month</th>\n",
       "      <th>Year</th>\n",
       "      <th>Returned</th>\n",
       "      <th>Region_y</th>\n",
       "    </tr>\n",
       "  </thead>\n",
       "  <tbody>\n",
       "    <tr>\n",
       "      <th>0</th>\n",
       "      <td>30191</td>\n",
       "      <td>IN-2012-PB19210127-41259</td>\n",
       "      <td>2012-12-16</td>\n",
       "      <td>12/19/12</td>\n",
       "      <td>First Class</td>\n",
       "      <td>PB-19210127</td>\n",
       "      <td>Phillip Breyer</td>\n",
       "      <td>Corporate</td>\n",
       "      <td>NaN</td>\n",
       "      <td>Taipei</td>\n",
       "      <td>...</td>\n",
       "      <td>1715.16</td>\n",
       "      <td>2</td>\n",
       "      <td>0.0</td>\n",
       "      <td>720.36</td>\n",
       "      <td>725.57</td>\n",
       "      <td>Critical</td>\n",
       "      <td>12</td>\n",
       "      <td>2012</td>\n",
       "      <td>Yes</td>\n",
       "      <td>Eastern Asia</td>\n",
       "    </tr>\n",
       "    <tr>\n",
       "      <th>1</th>\n",
       "      <td>30190</td>\n",
       "      <td>IN-2012-PB19210127-41259</td>\n",
       "      <td>2012-12-16</td>\n",
       "      <td>12/19/12</td>\n",
       "      <td>First Class</td>\n",
       "      <td>PB-19210127</td>\n",
       "      <td>Phillip Breyer</td>\n",
       "      <td>Corporate</td>\n",
       "      <td>NaN</td>\n",
       "      <td>Taipei</td>\n",
       "      <td>...</td>\n",
       "      <td>2197.50</td>\n",
       "      <td>5</td>\n",
       "      <td>0.0</td>\n",
       "      <td>153.75</td>\n",
       "      <td>627.27</td>\n",
       "      <td>Critical</td>\n",
       "      <td>12</td>\n",
       "      <td>2012</td>\n",
       "      <td>Yes</td>\n",
       "      <td>Eastern Asia</td>\n",
       "    </tr>\n",
       "    <tr>\n",
       "      <th>2</th>\n",
       "      <td>30187</td>\n",
       "      <td>IN-2012-PB19210127-41259</td>\n",
       "      <td>2012-12-16</td>\n",
       "      <td>12/19/12</td>\n",
       "      <td>First Class</td>\n",
       "      <td>PB-19210127</td>\n",
       "      <td>Phillip Breyer</td>\n",
       "      <td>Corporate</td>\n",
       "      <td>NaN</td>\n",
       "      <td>Taipei</td>\n",
       "      <td>...</td>\n",
       "      <td>1356.03</td>\n",
       "      <td>3</td>\n",
       "      <td>0.0</td>\n",
       "      <td>311.85</td>\n",
       "      <td>458.97</td>\n",
       "      <td>Critical</td>\n",
       "      <td>12</td>\n",
       "      <td>2012</td>\n",
       "      <td>Yes</td>\n",
       "      <td>Eastern Asia</td>\n",
       "    </tr>\n",
       "    <tr>\n",
       "      <th>3</th>\n",
       "      <td>30193</td>\n",
       "      <td>IN-2012-PB19210127-41259</td>\n",
       "      <td>2012-12-16</td>\n",
       "      <td>12/19/12</td>\n",
       "      <td>First Class</td>\n",
       "      <td>PB-19210127</td>\n",
       "      <td>Phillip Breyer</td>\n",
       "      <td>Corporate</td>\n",
       "      <td>NaN</td>\n",
       "      <td>Taipei</td>\n",
       "      <td>...</td>\n",
       "      <td>882.15</td>\n",
       "      <td>5</td>\n",
       "      <td>0.0</td>\n",
       "      <td>114.60</td>\n",
       "      <td>203.92</td>\n",
       "      <td>Critical</td>\n",
       "      <td>12</td>\n",
       "      <td>2012</td>\n",
       "      <td>Yes</td>\n",
       "      <td>Eastern Asia</td>\n",
       "    </tr>\n",
       "    <tr>\n",
       "      <th>4</th>\n",
       "      <td>30189</td>\n",
       "      <td>IN-2012-PB19210127-41259</td>\n",
       "      <td>2012-12-16</td>\n",
       "      <td>12/19/12</td>\n",
       "      <td>First Class</td>\n",
       "      <td>PB-19210127</td>\n",
       "      <td>Phillip Breyer</td>\n",
       "      <td>Corporate</td>\n",
       "      <td>NaN</td>\n",
       "      <td>Taipei</td>\n",
       "      <td>...</td>\n",
       "      <td>148.32</td>\n",
       "      <td>3</td>\n",
       "      <td>0.0</td>\n",
       "      <td>68.22</td>\n",
       "      <td>25.48</td>\n",
       "      <td>Critical</td>\n",
       "      <td>12</td>\n",
       "      <td>2012</td>\n",
       "      <td>Yes</td>\n",
       "      <td>Eastern Asia</td>\n",
       "    </tr>\n",
       "  </tbody>\n",
       "</table>\n",
       "<p>5 rows × 28 columns</p>\n",
       "</div>"
      ],
      "text/plain": [
       "   Row.ID                  Order.ID Order.Date Ship.Date    Ship.Mode  \\\n",
       "0   30191  IN-2012-PB19210127-41259 2012-12-16  12/19/12  First Class   \n",
       "1   30190  IN-2012-PB19210127-41259 2012-12-16  12/19/12  First Class   \n",
       "2   30187  IN-2012-PB19210127-41259 2012-12-16  12/19/12  First Class   \n",
       "3   30193  IN-2012-PB19210127-41259 2012-12-16  12/19/12  First Class   \n",
       "4   30189  IN-2012-PB19210127-41259 2012-12-16  12/19/12  First Class   \n",
       "\n",
       "   Customer.ID   Customer.Name    Segment  Postal.Code    City  ...    Sales  \\\n",
       "0  PB-19210127  Phillip Breyer  Corporate          NaN  Taipei  ...  1715.16   \n",
       "1  PB-19210127  Phillip Breyer  Corporate          NaN  Taipei  ...  2197.50   \n",
       "2  PB-19210127  Phillip Breyer  Corporate          NaN  Taipei  ...  1356.03   \n",
       "3  PB-19210127  Phillip Breyer  Corporate          NaN  Taipei  ...   882.15   \n",
       "4  PB-19210127  Phillip Breyer  Corporate          NaN  Taipei  ...   148.32   \n",
       "\n",
       "  Quantity Discount  Profit Shipping.Cost Order.Priority Month  Year  \\\n",
       "0        2      0.0  720.36        725.57       Critical    12  2012   \n",
       "1        5      0.0  153.75        627.27       Critical    12  2012   \n",
       "2        3      0.0  311.85        458.97       Critical    12  2012   \n",
       "3        5      0.0  114.60        203.92       Critical    12  2012   \n",
       "4        3      0.0   68.22         25.48       Critical    12  2012   \n",
       "\n",
       "   Returned      Region_y  \n",
       "0       Yes  Eastern Asia  \n",
       "1       Yes  Eastern Asia  \n",
       "2       Yes  Eastern Asia  \n",
       "3       Yes  Eastern Asia  \n",
       "4       Yes  Eastern Asia  \n",
       "\n",
       "[5 rows x 28 columns]"
      ]
     },
     "execution_count": 177,
     "metadata": {},
     "output_type": "execute_result"
    }
   ],
   "source": [
    "df_return.head()"
   ]
  },
  {
   "cell_type": "code",
   "execution_count": 215,
   "metadata": {},
   "outputs": [
    {
     "name": "stdout",
     "output_type": "stream",
     "text": [
      "# of customers returned more than once: 547\n",
      "# of customers returned more than 5 times: 46\n"
     ]
    }
   ],
   "source": [
    "# 2\n",
    "df_return['Customer.ID'].value_counts()\n",
    "df_return_c = df_return.groupby('Customer.ID')['Returned'].agg(['count']).reset_index()\n",
    "print('# of customers returned more than once: {num}'.format(num = df_return_c[df_return_c['count'] > 1].shape[0]))\n",
    "print('# of customers returned more than 5 times: {num}'.format(num = df_return_c[df_return_c['count'] > 5].shape[0]))"
   ]
  },
  {
   "cell_type": "code",
   "execution_count": 233,
   "metadata": {},
   "outputs": [
    {
     "data": {
      "text/plain": [
       "Text(0.5, 0, 'Region')"
      ]
     },
     "execution_count": 233,
     "metadata": {},
     "output_type": "execute_result"
    },
    {
     "data": {
      "text/plain": [
       "<Figure size 1008x504 with 0 Axes>"
      ]
     },
     "metadata": {},
     "output_type": "display_data"
    },
    {
     "data": {
      "image/png": "[encoded data removed]",
      "text/plain": [
       "<Figure size 432x288 with 1 Axes>"
      ]
     },
     "metadata": {
      "needs_background": "light"
     },
     "output_type": "display_data"
    }
   ],
   "source": [
    "# 3\n",
    "plt.figure(figsize = (14, 7))\n",
    "df_return.groupby('Region_y')['Returned'].agg(['count']).sort_values(by = 'count', ascending = False).plot.bar()\n",
    "plt.title('Return Count by Region')\n",
    "plt.xlabel('Region')"
   ]
  },
  {
   "cell_type": "code",
   "execution_count": 239,
   "metadata": {},
   "outputs": [
    {
     "data": {
      "text/plain": [
       "Text(0.5, 0, 'Sub-category')"
      ]
     },
     "execution_count": 239,
     "metadata": {},
     "output_type": "execute_result"
    },
    {
     "data": {
      "image/png": "[encoded data removed]",
      "text/plain": [
       "<Figure size 432x288 with 1 Axes>"
      ]
     },
     "metadata": {
      "needs_background": "light"
     },
     "output_type": "display_data"
    },
    {
     "data": {
      "image/png": "[encoded data removed]",
      "text/plain": [
       "<Figure size 432x288 with 1 Axes>"
      ]
     },
     "metadata": {
      "needs_background": "light"
     },
     "output_type": "display_data"
    }
   ],
   "source": [
    "# 4\n",
    "df_return.groupby('Category')['Returned'].agg(['count']).sort_values(by = 'count', ascending = False).plot.bar()\n",
    "plt.title('Return Count by Category')\n",
    "plt.xlabel('Category')\n",
    "\n",
    "\n",
    "df_return.groupby('Sub.Category')['Returned'].agg(['count']).sort_values(by = 'count', ascending = False).plot.bar()\n",
    "plt.title('Return Count by Sub-category')\n",
    "plt.xlabel('Sub-category')"
   ]
  }
 ],
 "metadata": {
  "kernelspec": {
   "display_name": "Python 3",
   "language": "python",
   "name": "python3"
  },
  "language_info": {
   "codemirror_mode": {
    "name": "ipython",
    "version": 3
   },
   "file_extension": ".py",
   "mimetype": "text/x-python",
   "name": "python",
   "nbconvert_exporter": "python",
   "pygments_lexer": "ipython3",
   "version": "3.7.3"
  }
 },
 "nbformat": 4,
 "nbformat_minor": 2
}
